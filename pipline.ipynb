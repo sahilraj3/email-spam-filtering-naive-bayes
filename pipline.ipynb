{
 "cells": [
  {
   "cell_type": "code",
   "execution_count": null,
   "metadata": {},
   "outputs": [],
   "source": [
    "# import necessary liabrabies\n",
    "import pandas as pd\n",
    "from sklearn import metrics\n",
    "import pandas as pd\n",
    "from sklearn import metrics\n",
    "\n",
    "#load the news datasets\n",
    "\n",
    "df=pd.read_csv(\"spam.csv\")\n",
    "total=df.groupby('Category').describe()\n",
    "print(total)\n",
    "\n",
    "#data preprocessing we drop the unwanted columns that didn`t used for predictions\n",
    "#create a new column name spam ehere emails have labeled as:\n",
    "#label: spam=1 otherwise 0\n",
    "df['spam']=df['Category'].apply(lambda x:1 if x=='spam'else 0)\n",
    "df=df.drop(\"Category\",axis=\"columns\")\n",
    "print(\"\\nprocessed data set:\\n\")\n",
    "print(\"\\n\",df.head())\n",
    "\n",
    "      \n",
    "#now splitting the dataset into input and target sets\n",
    "input=df.Message\n",
    "target=df.spam\n",
    "\n",
    "#dividing the dataset into training and testing sets\n",
    "from sklearn.model_selection import train_test_split\n",
    "x_train,x_test,y_train,y_test=train_test_split(input,target,test_size=.2) #20% of the datasets is used into test case\n",
    "\n",
    "#using count vectorizer we generate the tokens and their frequency distrybution (occurance)\n",
    "from sklearn.feature_extraction.text import CountVectorizer\n",
    "      \n",
    "#implement the classifier\n",
    "from sklearn.naive_bayes import MultinomialNB\n",
    "from sklearn.pipeline import Pipeline as pl\n",
    "clf=pl([\n",
    "    ('vectorizer',CountVectorizer()),\n",
    "    ('nb',MultinomialNB())\n",
    "])\n",
    "\n",
    "clf.fit(x_train,y_train)\n",
    "pred1=clf.predict(x_test)\n",
    "score=clf.score(x_test,y_test)\n",
    "print(\"\\npredictions:\\n\",pred1)\n",
    "print(\"\\nModel Score is: \",score)\n",
    "      \n",
    "#for further validation\n",
    "emails=['hey sahil is your sirname is really Raj!',\n",
    "       'click here to get 50% discount',\n",
    "       'study abroad vissa hurry in 5 minutes']\n",
    "\n",
    "pred=clf.predict(emails)\n",
    "print(\"\\n For Validation Email Set:\\n\")\n",
    "print(\"output(1:spam/0:ham)  : \",pred)"
   ]
  }
 ],
 "metadata": {
  "kernelspec": {
   "display_name": "Python 3",
   "language": "python",
   "name": "python3"
  },
  "language_info": {
   "codemirror_mode": {
    "name": "ipython",
    "version": 3
   },
   "file_extension": ".py",
   "mimetype": "text/x-python",
   "name": "python",
   "nbconvert_exporter": "python",
   "pygments_lexer": "ipython3",
   "version": "3.7.4"
  }
 },
 "nbformat": 4,
 "nbformat_minor": 2
}
